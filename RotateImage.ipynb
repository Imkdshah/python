{
 "cells": [
  {
   "cell_type": "code",
   "execution_count": 42,
   "metadata": {},
   "outputs": [],
   "source": [
    "mat=[\n",
    "    [1,2,3],\n",
    "    [4,5,6],            \n",
    "    [7,8,9]\n",
    "]\n",
    "#aslo same as [[1,2,3],[4,5,6],[7,8,9]]\n",
    "# output\n",
    "\n",
    "# ans=[\n",
    "#         [7,4,1]\n",
    "#         [8,5,2]\n",
    "#         [9,6,3]\n",
    "# ]\n",
    "\n",
    "\n",
    "\n"
   ]
  },
  {
   "cell_type": "code",
   "execution_count": 2,
   "metadata": {},
   "outputs": [
    {
     "data": {
      "text/plain": [
       "3"
      ]
     },
     "execution_count": 2,
     "metadata": {},
     "output_type": "execute_result"
    }
   ],
   "source": [
    "mat[0][2]\n"
   ]
  },
  {
   "cell_type": "code",
   "execution_count": 30,
   "metadata": {},
   "outputs": [
    {
     "name": "stdout",
     "output_type": "stream",
     "text": [
      "[[7, 4, 1], [8, 5, 2], [9, 6, 3]]\n"
     ]
    }
   ],
   "source": [
    "a=[]\n",
    "for i in range(int(len(mat))):\n",
    "    a.append([])\n",
    "    \n",
    "    for j in range(int(len(mat)),0,-1):\n",
    "        \n",
    "        a[i].append(mat[j-1][i])\n",
    "        \n",
    "print(a)        \n",
    "        "
   ]
  },
  {
   "cell_type": "code",
   "execution_count": 26,
   "metadata": {},
   "outputs": [],
   "source": [
    "\n",
    "\n",
    "#in line \n"
   ]
  },
  {
   "cell_type": "code",
   "execution_count": 31,
   "metadata": {},
   "outputs": [
    {
     "name": "stdout",
     "output_type": "stream",
     "text": [
      "[1, 2, 3] [1, 2, 3]\n",
      "[1, 2, 3] [4, 5, 6]\n",
      "[1, 2, 3] [7, 8, 9]\n",
      "[4, 5, 6] [1, 2, 3]\n",
      "[4, 5, 6] [4, 5, 6]\n",
      "[4, 5, 6] [7, 8, 9]\n",
      "[7, 8, 9] [1, 2, 3]\n",
      "[7, 8, 9] [4, 5, 6]\n",
      "[7, 8, 9] [7, 8, 9]\n"
     ]
    }
   ],
   "source": [
    "for i in mat:\n",
    "    for j in mat:\n",
    "        print(i,j)"
   ]
  },
  {
   "cell_type": "code",
   "execution_count": 28,
   "metadata": {},
   "outputs": [
    {
     "data": {
      "text/plain": [
       "[[7, 4, 1], [8, 5, 2], [9, 6, 3]]"
      ]
     },
     "execution_count": 28,
     "metadata": {},
     "output_type": "execute_result"
    }
   ],
   "source": [
    "mat"
   ]
  },
  {
   "cell_type": "code",
   "execution_count": 61,
   "metadata": {},
   "outputs": [
    {
     "name": "stdout",
     "output_type": "stream",
     "text": [
      "[7,4,1,]\n",
      "[8,5,2,]\n",
      "[9,6,3,]\n"
     ]
    }
   ],
   "source": [
    "for i in range(int(len(mat))):\n",
    "    \n",
    "    print(end=\"[\")\n",
    "    for j in range(int(len(mat)),0,-1):\n",
    "        \n",
    "        print(mat[j-1][i] , end=\",\"  )\n",
    "    print(\"]\")    "
   ]
  },
  {
   "cell_type": "code",
   "execution_count": null,
   "metadata": {},
   "outputs": [],
   "source": []
  }
 ],
 "metadata": {
  "kernelspec": {
   "display_name": "Python 3",
   "language": "python",
   "name": "python3"
  },
  "language_info": {
   "codemirror_mode": {
    "name": "ipython",
    "version": 3
   },
   "file_extension": ".py",
   "mimetype": "text/x-python",
   "name": "python",
   "nbconvert_exporter": "python",
   "pygments_lexer": "ipython3",
   "version": "3.7.6"
  }
 },
 "nbformat": 4,
 "nbformat_minor": 4
}
