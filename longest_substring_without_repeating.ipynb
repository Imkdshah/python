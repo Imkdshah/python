{
 "cells": [
  {
   "cell_type": "code",
   "execution_count": 1,
   "metadata": {},
   "outputs": [],
   "source": [
    "s=\"abcsabcbb\""
   ]
  },
  {
   "cell_type": "code",
   "execution_count": 6,
   "metadata": {},
   "outputs": [],
   "source": [
    "def lswr(s):\n",
    "    maxl=0\n",
    "    start=0\n",
    "    seen={}\n",
    "    for i in range(len(s)):\n",
    "        if s[i] in seen:\n",
    "            start=max(start,seen[s[i]]+1)\n",
    "            print(seen)\n",
    "        seen[s[i]]=i\n",
    "        maxl=max(maxl,i-start+1)\n",
    "    return maxl     \n",
    "\n",
    "            \n",
    "            \n",
    "    "
   ]
  },
  {
   "cell_type": "code",
   "execution_count": 7,
   "metadata": {},
   "outputs": [
    {
     "name": "stdout",
     "output_type": "stream",
     "text": [
      "{'a': 0, 'b': 1, 'c': 2, 's': 3}\n",
      "{'a': 4, 'b': 1, 'c': 2, 's': 3}\n",
      "{'a': 4, 'b': 5, 'c': 2, 's': 3}\n",
      "{'a': 4, 'b': 5, 'c': 6, 's': 3}\n",
      "{'a': 4, 'b': 7, 'c': 6, 's': 3}\n"
     ]
    },
    {
     "data": {
      "text/plain": [
       "4"
      ]
     },
     "execution_count": 7,
     "metadata": {},
     "output_type": "execute_result"
    }
   ],
   "source": [
    "lswr(s)"
   ]
  },
  {
   "cell_type": "code",
   "execution_count": null,
   "metadata": {},
   "outputs": [],
   "source": []
  }
 ],
 "metadata": {
  "kernelspec": {
   "display_name": "Python 3",
   "language": "python",
   "name": "python3"
  },
  "language_info": {
   "codemirror_mode": {
    "name": "ipython",
    "version": 3
   },
   "file_extension": ".py",
   "mimetype": "text/x-python",
   "name": "python",
   "nbconvert_exporter": "python",
   "pygments_lexer": "ipython3",
   "version": "3.7.6"
  }
 },
 "nbformat": 4,
 "nbformat_minor": 4
}
